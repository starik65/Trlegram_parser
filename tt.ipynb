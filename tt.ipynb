# Установка необходимых библиотек
!pip install telethon requests qrcode Pillow nest_asyncio opencv-python

# Импорт библиотек
import os
import json
import requests
import asyncio
import qrcode
from telethon import TelegramClient
import nest_asyncio
from google.colab.patches import cv2_imshow
import cv2

# Применение nest_asyncio для корректной работы в Google Colab
nest_asyncio.apply()

# --- Ваши данные (Обязательно замените!) ---
# Эти переменные будут получать данные из GitHub Actions (секретов)
# Если вы запускаете в Colab, замените на свои данные:
api_id = os.environ.get('API_ID', 'YOUR_API_ID')
api_hash = os.environ.get('API_HASH', 'YOUR_API_HASH')
phone = os.environ.get('PHONE_NUMBER', 'YOUR_PHONE_NUMBER')

# URL вебхука из n8n
n8n_webhook_url = os.environ.get('N8N_WEBHOOK_URL', 'n8n_webhook_url')

# --- Список каналов для парсинга ---
# Вы можете добавить больше каналов через запятую
channel_names = ['@BlackAudit', '@another_channel_1', '@your_channel_2']

# ---------------------------------------------

async def main():
    # Подключение к Telegram
    client = TelegramClient('my_session', api_id, api_hash)
    await client.connect()

    # Проверка авторизации и логин по QR-коду, если не авторизован
    if not await client.is_user_authorized():
        try:
            # Генерация QR-кода
            qr_login = await client.qr_login()
            url = qr_login.url

            # Создание и отображение QR-кода как изображения
            qr = qrcode.QRCode()
            qr.add_data(url)
            qr_img = qr.make_image(fill_color="black", back_color="white")
            qr_img.save("qrcode.png")
            img = cv2.imread("qrcode.png", cv2.IMREAD_UNCHANGED)
            cv2_imshow(img)

            print('Отсканируйте QR-код в приложении Telegram для входа.')
            await client.run_until_disconnected()
        except Exception as e:
            print(f"Ошибка авторизации: {e}")
            return # Прекращаем выполнение, если авторизация не удалась

    # Получение последних 5 сообщений из каждого канала в списке
    results = []
    for channel_name in channel_names:
        try:
            async for msg in client.iter_messages(channel_name, limit=5):
                if msg.text:
                    results.append({
                        'channel': channel_name,
                        'id': msg.id,
                        'text': msg.text,
                        'date': str(msg.date)
                    })
        except Exception as e:
            print(f"Ошибка при парсинге канала {channel_name}: {e}")
            continue # Продолжаем парсить следующий канал

    # Отправка данных в n8n
    try:
        requests.post(n8n_webhook_url, json=results)
        print("Данные успешно отправлены в n8n.")
    except Exception as e:
        print(f"Ошибка при отправке данных в n8n: {e}")

    # Отключение от Telegram
    await client.disconnect()

if __name__ == '__main__':
    asyncio.run(main())