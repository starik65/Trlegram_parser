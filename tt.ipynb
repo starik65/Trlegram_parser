{
  "nbformat": 4,
  "nbformat_minor": 0,
  "metadata": {
    "colab": {
      "provenance": []
    },
    "kernelspec": {
      "name": "python3",
      "display_name": "Python 3"
    },
    "language_info": {
      "name": "python"
    }
  },
  "cells": [
    {
      "cell_type": "code",
      "execution_count": null,
      "metadata": {
        "id": "nXN20x74rr66"
      },
      "outputs": [],
      "source": [
        "!pip install telethon requests qrcode Pillow nest_asyncio opencv-python\n"
      ]
    },
    {
      "cell_type": "code",
      "source": [
        "# Installation of necessary libraries\n",
        "!pip install telethon requests qrcode Pillow nest_asyncio opencv-python\n",
        "\n",
        "# Import libraries\n",
        "import os\n",
        "import json\n",
        "import requests\n",
        "import asyncio\n",
        "import qrcode\n",
        "from telethon import TelegramClient\n",
        "import nest_asyncio\n",
        "from google.colab.patches import cv2_imshow\n",
        "import cv2\n",
        "\n",
        "# Apply nest_asyncio for correct operation in Google Colab\n",
        "nest_asyncio.apply()\n",
        "\n",
        "# --- Your data (be sure to replace!) ---\n",
        "api_id = os.environ['API_ID']\n",
        "api_hash = 'os.environ['API_HASH']'\n",
        "phone = 'os.environ['PHONE_NUMBER']'\n",
        "\n",
        "# n8n webhook URL\n",
        "n8n_webhook_url = 'os.environ['N8N_WEBHOOK_URL']'\n",
        "\n",
        "# --- Список каналов для парсинга ---\n",
        "channel_names = ['@BlackAudit','@violavolkova']\n",
        "# ---------------------------------------------\n",
        "\n",
        "async def main():\n",
        "    # Подключение к Telegram\n",
        "    client = TelegramClient('my_session', api_id, api_hash)\n",
        "    await client.connect()\n",
        "\n",
        "    # Проверка авторизации и логин по QR-коду, если не авторизован\n",
        "    if not await client.is_user_authorized():\n",
        "        try:\n",
        "            # Генерация QR-кода\n",
        "            qr_login = await client.qr_login()\n",
        "            url = qr_login.url\n",
        "            qr = qrcode.QRCode()\n",
        "            qr.add_data(url)\n",
        "            qr_img = qr.make_image(fill_color=\"black\", back_color=\"white\")\n",
        "            qr_img.save(\"qrcode.png\")\n",
        "            img = cv2.imread(\"qrcode.png\", cv2.IMREAD_UNCHANGED)\n",
        "            cv2_imshow(img)\n",
        "            print('Отсканируйте QR-код для входа')\n",
        "            await client.run_until_disconnected()\n",
        "        except Exception as e:\n",
        "            print(f\"Ошибка авторизации: {e}\")\n",
        "            return\n",
        "\n",
        "    # Получение последних 5 сообщений из каждого канала в списке\n",
        "    results = []\n",
        "    for channel_name in channel_names:\n",
        "        async for msg in client.iter_messages(channel_name, limit=5):\n",
        "            if msg.text:\n",
        "                results.append({\n",
        "                    'channel': channel_name, # Добавлено название канала\n",
        "                    'id': msg.id,\n",
        "                    'text': msg.text,\n",
        "                    'date': str(msg.date)\n",
        "                })\n",
        "\n",
        "    # Отправка данных в n8n\n",
        "    try:\n",
        "        requests.post(n8n_webhook_url, json=results)\n",
        "        print(\"Данные успешно отправлены в n8n.\")\n",
        "    except Exception as e:\n",
        "        print(f\"Ошибка при отправке данных в n8n: {e}\")\n",
        "\n",
        "    # Отключение от Telegram\n",
        "    await client.disconnect()\n",
        "\n",
        "if __name__ == '__main__':\n",
        "    asyncio.run(main())"
      ],
      "metadata": {
        "colab": {
          "base_uri": "https://localhost:8080/"
        },
        "id": "b3U3JaBS0rr2",
        "outputId": "b1c6570d-1f33-422b-ba6b-88943434d378"
      },
      "execution_count": 10,
      "outputs": [
        {
          "output_type": "stream",
          "name": "stdout",
          "text": [
            "Requirement already satisfied: telethon in /usr/local/lib/python3.12/dist-packages (1.41.2)\n",
            "Requirement already satisfied: requests in /usr/local/lib/python3.12/dist-packages (2.32.4)\n",
            "Requirement already satisfied: qrcode in /usr/local/lib/python3.12/dist-packages (8.2)\n",
            "Requirement already satisfied: Pillow in /usr/local/lib/python3.12/dist-packages (11.3.0)\n",
            "Requirement already satisfied: nest_asyncio in /usr/local/lib/python3.12/dist-packages (1.6.0)\n",
            "Requirement already satisfied: opencv-python in /usr/local/lib/python3.12/dist-packages (4.12.0.88)\n",
            "Requirement already satisfied: pyaes in /usr/local/lib/python3.12/dist-packages (from telethon) (1.6.1)\n",
            "Requirement already satisfied: rsa in /usr/local/lib/python3.12/dist-packages (from telethon) (4.9.1)\n",
            "Requirement already satisfied: charset_normalizer<4,>=2 in /usr/local/lib/python3.12/dist-packages (from requests) (3.4.3)\n",
            "Requirement already satisfied: idna<4,>=2.5 in /usr/local/lib/python3.12/dist-packages (from requests) (3.10)\n",
            "Requirement already satisfied: urllib3<3,>=1.21.1 in /usr/local/lib/python3.12/dist-packages (from requests) (2.5.0)\n",
            "Requirement already satisfied: certifi>=2017.4.17 in /usr/local/lib/python3.12/dist-packages (from requests) (2025.8.3)\n",
            "Requirement already satisfied: numpy<2.3.0,>=2 in /usr/local/lib/python3.12/dist-packages (from opencv-python) (2.0.2)\n",
            "Requirement already satisfied: pyasn1>=0.1.3 in /usr/local/lib/python3.12/dist-packages (from rsa->telethon) (0.6.1)\n",
            "Данные успешно отправлены в n8n.\n"
          ]
        }
      ]
    }
  ]
}
