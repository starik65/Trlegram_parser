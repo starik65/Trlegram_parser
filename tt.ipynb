{
  "nbformat": 4,
  "nbformat_minor": 0,
  "metadata": {
    "colab": {
      "provenance": []
    },
    "kernelspec": {
      "name": "python3",
      "display_name": "Python 3"
    },
    "language_info": {
      "name": "python"
    }
  },
  "cells": [
    {
      "cell_type": "code",
      "execution_count": null,
      "metadata": {
        "id": "nXN20x74rr66"
      },
      "outputs": [],
      "source": [
        "!pip install telethon requests qrcode Pillow nest_asyncio opencv-python\n"
      ]
    },
    {
      "cell_type": "code",
      "source": [
        "# Установка необходимых библиотек\n",
        "!pip install telethon requests nest_asyncio\n",
        "\n",
        "# Импорт библиотек\n",
        "import os\n",
        "import json\n",
        "import requests\n",
        "import asyncio\n",
        "from telethon import TelegramClient\n",
        "import nest_asyncio\n",
        "\n",
        "# Применение nest_asyncio для корректной работы\n",
        "nest_asyncio.apply()\n",
        "\n",
        "# --- Ваши данные из GitHub Secrets ---\n",
        "api_id = int(os.environ['API_ID'])\n",
        "api_hash = os.environ['API_HASH']\n",
        "phone = os.environ['PHONE_NUMBER']\n",
        "n8n_webhook_url = os.environ['N8N_WEBHOOK_URL']\n",
        "# ---------------------------------------------\n",
        "\n",
        "# --- Список каналов для парсинга ---\n",
        "# Убедитесь, что каналы указаны правильно\n",
        "channel_names = ['@BlackAudit', '@violavolkova']\n",
        "\n",
        "async def main():\n",
        "    # Подключение к Telegram\n",
        "    client = TelegramClient('my_session', api_id, api_hash)\n",
        "    await client.connect()\n",
        "\n",
        "    # Проверка авторизации. Если сессия не найдена, скрипт завершится.\n",
        "    if not await client.is_user_authorized():\n",
        "        print(\"Ошибка: не удалось авторизоваться. Убедитесь, что файл my_session.session загружен в репозиторий.\")\n",
        "        return\n",
        "\n",
        "    # Получение последних 5 сообщений из каждого канала в списке\n",
        "    results = []\n",
        "    for channel_name in channel_names:\n",
        "        try:\n",
        "            async for msg in client.iter_messages(channel_name, limit=5):\n",
        "                if msg.text:\n",
        "                    results.append({\n",
        "                        'channel': channel_name,\n",
        "                        'id': msg.id,\n",
        "                        'text': msg.text,\n",
        "                        'date': str(msg.date)\n",
        "                    })\n",
        "        except Exception as e:\n",
        "            print(f\"Ошибка при парсинге канала {channel_name}: {e}\")\n",
        "            continue\n",
        "\n",
        "    # Отправка данных в n8n\n",
        "    try:\n",
        "        requests.post(n8n_webhook_url, json=results)\n",
        "        print(\"Данные успешно отправлены в n8n.\")\n",
        "    except Exception as e:\n",
        "        print(f\"Ошибка при отправке данных в n8n: {e}\")\n",
        "\n",
        "    # Отключение от Telegram\n",
        "    await client.disconnect()\n",
        "\n",
        "if __name__ == '__main__':\n",
        "    asyncio.run(main())"
      ],
      "metadata": {
        "colab": {
          "base_uri": "https://localhost:8080/"
        },
        "id": "b3U3JaBS0rr2",
        "outputId": "57b0aaac-ed58-4ef7-9aa5-0df3b0b8e418"
      },
      "execution_count": 11,
      "outputs": [
        {
          "output_type": "stream",
          "name": "stdout",
          "text": [
            "Requirement already satisfied: telethon in /usr/local/lib/python3.12/dist-packages (1.41.2)\n",
            "Requirement already satisfied: requests in /usr/local/lib/python3.12/dist-packages (2.32.4)\n",
            "Requirement already satisfied: nest_asyncio in /usr/local/lib/python3.12/dist-packages (1.6.0)\n",
            "Requirement already satisfied: pyaes in /usr/local/lib/python3.12/dist-packages (from telethon) (1.6.1)\n",
            "Requirement already satisfied: rsa in /usr/local/lib/python3.12/dist-packages (from telethon) (4.9.1)\n",
            "Requirement already satisfied: charset_normalizer<4,>=2 in /usr/local/lib/python3.12/dist-packages (from requests) (3.4.3)\n",
            "Requirement already satisfied: idna<4,>=2.5 in /usr/local/lib/python3.12/dist-packages (from requests) (3.10)\n",
            "Requirement already satisfied: urllib3<3,>=1.21.1 in /usr/local/lib/python3.12/dist-packages (from requests) (2.5.0)\n",
            "Requirement already satisfied: certifi>=2017.4.17 in /usr/local/lib/python3.12/dist-packages (from requests) (2025.8.3)\n",
            "Requirement already satisfied: pyasn1>=0.1.3 in /usr/local/lib/python3.12/dist-packages (from rsa->telethon) (0.6.1)\n",
            "Данные успешно отправлены в n8n.\n"
          ]
        }
      ]
    }
  ]
}
